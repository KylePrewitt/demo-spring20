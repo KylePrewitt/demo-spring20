{
  "cells": [
    {
      "metadata": {
        "trusted": true
      },
      "cell_type": "code",
      "source": "#1.1 All Odds\n\ndef printOdds():\n    x = 5\n    while(x <= 35):\n        print(x)\n        x += 2\n        \nprintOdds()",
      "execution_count": 3,
      "outputs": [
        {
          "output_type": "stream",
          "text": "5\n7\n9\n11\n13\n15\n17\n19\n21\n23\n25\n27\n29\n31\n33\n35\n",
          "name": "stdout"
        }
      ]
    },
    {
      "metadata": {
        "trusted": true
      },
      "cell_type": "code",
      "source": "#1.2 Loops\n#Celcius -> Fahrenheit converter\n\ndef celciusToFahrenheit(c):\n    return 9.0/5.0 * c + 32\n\noutputString = \"\"\nfor x in range(0,6):\n    formatString = \"{0:.2}\".format(str(celciusToFahrenheit(x))) \n    if(x < 5):\n        outputString += formatString + \", \"\n    else:\n        outputString += formatString\n        \nprint(outputString)",
      "execution_count": 21,
      "outputs": [
        {
          "output_type": "stream",
          "text": "32, 33, 35, 37, 39, 41\n",
          "name": "stdout"
        }
      ]
    },
    {
      "metadata": {
        "trusted": true
      },
      "cell_type": "code",
      "source": "#1.3 Word to hex and binary\n\nwhile(True):\n    print(\"Enter a word. Type exit to quit. \")\n    word = raw_input()\n    \n    if(word == \"exit\"):\n        break;\n        \n    print(\"Word is: \" + word)\n    hexOutput = \"\"\n    binOutput = \"\"\n    for character in word:\n        code = ord(character)\n        hexOutput += str(hex(code)) + \" \"\n        binOutput += str(bin(code)) + \" \"\n        \n    print(\"In hex: \" + hexOutput)\n    print(\"In binary: \" + binOutput)\n    print(\"\\n\")",
      "execution_count": 2,
      "outputs": [
        {
          "output_type": "stream",
          "text": "Enter a word. Type exit to quit. \ntest\nWord is: test\nIn hex: 0x74 0x65 0x73 0x74 \nIn binary: 0b1110100 0b1100101 0b1110011 0b1110100 \n\n\nEnter a word. Type exit to quit. \nexit\n",
          "name": "stdout"
        }
      ]
    },
    {
      "metadata": {
        "trusted": true
      },
      "cell_type": "code",
      "source": "#1.4 Strings\n\nimport random\n\ndef contains(msg1, msg2):\n    return msg2 in msg1\n\ndef guessingGame(maxValue):\n    if(maxValue < 1): #validate maxValue parameter\n        print(\"Invalid parameter: maxValue must be larger than 1\")\n        return;\n    \n    print(\"===================================================================================\")\n    print(\"Welcome to NumberGuessingGame2000™®©, the most entertaining way to waste your time!\")\n    print(\"===================================================================================\")\n    print(\"\\n\")\n    \n    print(\"To start, I will pick a number ranging from 1-\" + str(maxValue) + \". Your job is to guess \" + \n          \"it correctly in the smallest possible number of tries. After each guess, I will tell you if \" +\n          \"you are getting closer to or farther away from the actual value ('hot' and 'cold' respectively).\")\n    print(\"\\n\")\n    \n    lowScore = -1 #keep track of lowest (best) score. -1 means it hasn't been set yet (this value is not possible to attain in-game)\n    while(True): #main 'gameloop'\n        guessCount = 0 #keep track of the number of guesses\n        lastGuess = -maxValue #keep track of previous guess. initial value is set so that the first guess will always be \"warmer\".\n        targetNumber = random.randint(1, maxValue) #pick random number\n\n        print(\"New game started.\\n\")\n        while(True): #guess loop\n            print(\"Guess a number. Type 'quit' to exit the game, or 'restart' to start a new game.\")\n            userInput = raw_input()\n        \n            if(userInput == 'quit'): #exit or restart on special inputs\n                print(\"Thank you for playing!\")\n                return\n            elif(userInput == 'restart'):\n                break\n            \n            guess = 0 \n            try: #validate what the user typed to avoid crashes on bad input\n                guess = int(userInput)\n                if(guess < 1 or guess > maxValue): #out of range input\n                    print(\"The value you entered is outside of the valid range.\\n\")\n                    continue\n            except ValueError: #non-integer input\n                print(\"The value you entered is not a valid integer.\\n\")\n                continue\n\n            #the user's guess is at this point guaranteed to be in the range 1 <= x <= maxValue\n            \n            guessCount += 1\n            previousDistance = abs(targetNumber - lastGuess)\n            currentDistance = abs(targetNumber - guess)\n            deltaDistance = currentDistance - previousDistance \n        \n            if(currentDistance == 0): #win condition\n                print(\"Congratulations, you win! It took you \" + str(guessCount) + \" guesses.\")\n                \n                if(guessCount < lowScore or lowScore == -1): #set new low score\n                    print(\"You set a new low score!\")\n                    lowScore = guessCount;\n                elif(guessCount > lowScore): #did not beat low score\n                    print(\"You did not beat your low score of \" + str(lowScore))\n                elif(guessCount == lowScore): #tied low score\n                    print(\"You tied your low score!\")\n                    \n                print(\"If you want to play again with a different number, type 'y'. Enter any other value to quit.\")\n                \n                choice = raw_input()\n                if(choice == \"y\"): break\n                else: return\n            elif(deltaDistance < 0):\n                print(\"Getting warmer.\\n\")\n            elif(deltaDistance > 0):\n                print(\"Getting colder.\\n\")\n            else:\n                print(\"That value is the same distance from the target as your last guess.\\n\")\n                \n            lastGuess = guess\n            \n        \nguessingGame(10)",
      "execution_count": 8,
      "outputs": [
        {
          "output_type": "stream",
          "text": "===================================================================================\nWelcome to NumberGuessingGame2000™®©, the most entertaining way to waste your time!\n===================================================================================\n\n\nTo start, I will pick a number ranging from 1-10. Your job is to guess it correctly in the smallest possible number of tries. After each guess, I will tell you if you are getting closer to or farther away from the actual value ('hot' and 'cold' respectively).\n\n\nNew game started.\n\nGuess a number. Type 'quit' to exit the game, or 'restart' to start a new game.\n3\nGetting warmer.\n\nGuess a number. Type 'quit' to exit the game, or 'restart' to start a new game.\n4\nGetting warmer.\n\nGuess a number. Type 'quit' to exit the game, or 'restart' to start a new game.\n8\nThat value is the same distance from the target as your last guess.\n\nGuess a number. Type 'quit' to exit the game, or 'restart' to start a new game.\n6\nCongratulations, you win! It took you 4 guesses.\nYou set a new low score!\nIf you want to play again with a different number, type 'y'. Enter any other value to quit.\ny\nNew game started.\n\nGuess a number. Type 'quit' to exit the game, or 'restart' to start a new game.\n3\nGetting warmer.\n\nGuess a number. Type 'quit' to exit the game, or 'restart' to start a new game.\n8\nGetting warmer.\n\nGuess a number. Type 'quit' to exit the game, or 'restart' to start a new game.\n10\nGetting colder.\n\nGuess a number. Type 'quit' to exit the game, or 'restart' to start a new game.\n7\nCongratulations, you win! It took you 4 guesses.\nYou tied your low score!\nIf you want to play again with a different number, type 'y'. Enter any other value to quit.\nd\n",
          "name": "stdout"
        }
      ]
    },
    {
      "metadata": {
        "trusted": true
      },
      "cell_type": "code",
      "source": "#1.5 Volume\nimport math\n\ndef getVolume(radius):\n    if(radius <= 0):\n        return 0\n    \n    return (4.0/3.0) * math.pi * pow(radius, 3)\n\ngetVolume(10)",
      "execution_count": 4,
      "outputs": [
        {
          "output_type": "execute_result",
          "execution_count": 4,
          "data": {
            "text/plain": "4188.790204786391"
          },
          "metadata": {}
        }
      ]
    },
    {
      "metadata": {
        "trusted": true
      },
      "cell_type": "code",
      "source": "#1.6 Stoned\n\ndef getStone(kg):\n    return (kg * 2.2) / 14\n\n\ngetStone(130)",
      "execution_count": 5,
      "outputs": [
        {
          "output_type": "execute_result",
          "execution_count": 5,
          "data": {
            "text/plain": "20.428571428571427"
          },
          "metadata": {}
        }
      ]
    },
    {
      "metadata": {
        "trusted": true
      },
      "cell_type": "code",
      "source": "#1.7 Ohm's Law 1\n\ndef in_series(r1, r2, v):\n    current = v/(r1 + r2)\n    print(\"Given r1={0}, r2={1} and v={2} in series i={3}\".format(r1, r2, v, current))\n    \n\ndef in_parallel(r1, r2, v):\n    current = v/((1.0/r1) + (1.0/r2))\n    print(\"Given r1={0}, r2={1} and v={2} in parallel i={3}\".format(r1, r2, v, current))\n\n    \nin_parallel(10.2, 10, 100)",
      "execution_count": 17,
      "outputs": [
        {
          "output_type": "stream",
          "text": "Given r1=10.2, r2=10 and v=100 in parallel i=504.95049505\n",
          "name": "stdout"
        }
      ]
    },
    {
      "metadata": {
        "trusted": true
      },
      "cell_type": "code",
      "source": "#1.8 Ohm's Law 2\n\nimport ipywidgets as widgets\n\n@interact(i = (1, 100), r = (1, 100))\ndef display(i, r):\n    print(\"Voltage: {0}, Power: {1}\".format(float(i)/float(r), pow(float(i), 2) * r))",
      "execution_count": 19,
      "outputs": [
        {
          "output_type": "display_data",
          "data": {
            "application/vnd.jupyter.widget-view+json": {
              "model_id": "baee83b36f3941409533d570a00107bb",
              "version_minor": 0,
              "version_major": 2
            },
            "text/plain": "aW50ZXJhY3RpdmUoY2hpbGRyZW49KEludFNsaWRlcih2YWx1ZT01MCwgZGVzY3JpcHRpb249dSdpJywgbWluPTEpLCBJbnRTbGlkZXIodmFsdWU9NTAsIGRlc2NyaXB0aW9uPXUncicsIG1pbj3igKY=\n"
          },
          "metadata": {}
        }
      ]
    },
    {
      "metadata": {
        "trusted": true
      },
      "cell_type": "code",
      "source": "#1.9 Odd/Even\n\nfrom ipywidgets import interact\n\n@interact\ndef led(x = 10):\n    if(x % 2 == 0): print(\"LED ON: x = \" + str(x))\n    else: print(\"LED OFF: x = \" + str(x))",
      "execution_count": 21,
      "outputs": [
        {
          "output_type": "display_data",
          "data": {
            "application/vnd.jupyter.widget-view+json": {
              "model_id": "57d461adf87045e483f984136d4c771a",
              "version_minor": 0,
              "version_major": 2
            },
            "text/plain": "aW50ZXJhY3RpdmUoY2hpbGRyZW49KEludFNsaWRlcih2YWx1ZT0xMCwgZGVzY3JpcHRpb249dSd4JywgbWF4PTMwLCBtaW49LTEwKSwgT3V0cHV0KCkpLCBfZG9tX2NsYXNzZXM9KHUnd2lkZ2XigKY=\n"
          },
          "metadata": {}
        }
      ]
    },
    {
      "metadata": {
        "trusted": true
      },
      "cell_type": "code",
      "source": "#1.10 Change it\n\ndef displayChange(cents): \n    #note: this algorithm assumes the denominations list is presented in greatest to least order. if this assumption holds true, it will always output the smallest possible change count (by using the largest denominations first)\n    denominations = [(25, \"quarter\", \"quarters\"), (10, \"dime\", \"dimes\"), (5, \"nickel\", \"nickels\"), (1, \"penny\", \"pennies\")] \n    #uncomment the following to test with additional, obsolete denominations. added for fun\n    #denominations = [(50, \"50-cent piece\", \"50-cent pieces\"), (25, \"quarter\", \"quarters\"), (10, \"dime\", \"dimes\"), (5, \"nickel\", \"nickels\"), (2, \"two-cent piece\", \"two-cent pieces\"), (1, \"penny\", \"pennies\")] \n    denominationsLength = len(denominations)\n    display = \"\"\n    for denomination in denominations: #iterate through denominations\n        if(denomination[0] > cents): continue #don't calculate unnecessary denominations\n        \n        result = divmod(cents, denomination[0]) #get remainder and quotient in one step, since we need both values\n        display += \"{0} {1}\".format(result[0], denomination[1] if result[0] == 1 else denomination[2]) #update the display, using the plural form when correct\n        cents = result[1] #the next iteration will work with the remainder of dividing by the current denomination's value\n        \n        if(cents != 0): #if we are not on the final iteration, append a comma and a space\n            display += \", \"\n        \n    print(display) #display\n        \ndisplayChange(69)\n        ",
      "execution_count": 27,
      "outputs": [
        {
          "output_type": "stream",
          "text": "2 quarters, 1 dime, 1 nickel, 4 pennies\n",
          "name": "stdout"
        }
      ]
    }
  ],
  "metadata": {
    "kernelspec": {
      "name": "python2",
      "display_name": "Python 2",
      "language": "python"
    },
    "language_info": {
      "mimetype": "text/x-python",
      "nbconvert_exporter": "python",
      "name": "python",
      "pygments_lexer": "ipython2",
      "version": "2.7.15",
      "file_extension": ".py",
      "codemirror_mode": {
        "version": 2,
        "name": "ipython"
      }
    }
  },
  "nbformat": 4,
  "nbformat_minor": 2
}